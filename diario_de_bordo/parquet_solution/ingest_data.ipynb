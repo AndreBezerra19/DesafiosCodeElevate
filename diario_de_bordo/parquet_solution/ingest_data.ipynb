{
 "cells": [
  {
   "cell_type": "markdown",
   "metadata": {},
   "source": [
    "# **Ingest Data Process**"
   ]
  },
  {
   "cell_type": "markdown",
   "metadata": {},
   "source": [
    "## Dependencies and Parameters"
   ]
  },
  {
   "cell_type": "code",
   "execution_count": 5,
   "metadata": {},
   "outputs": [],
   "source": [
    "import pandas as pd"
   ]
  },
  {
   "cell_type": "code",
   "execution_count": 6,
   "metadata": {},
   "outputs": [],
   "source": [
    "path = \"/Users/andrebezerra/Desktop/Dev/DesafiosCodeElevate/diario_de_bordo/info_transportes.csv\"\n",
    "parquet_path = \"/Users/andrebezerra/Desktop/Dev/DesafiosCodeElevate/diario_de_bordo/transportes.parquet\""
   ]
  },
  {
   "cell_type": "markdown",
   "metadata": {},
   "source": [
    "## ELT process"
   ]
  },
  {
   "cell_type": "code",
   "execution_count": 7,
   "metadata": {},
   "outputs": [
    {
     "name": "stdout",
     "output_type": "stream",
     "text": [
      "Dados normalizados e salvos em formato Parquet com sucesso!\n"
     ]
    }
   ],
   "source": [
    "# Read files\n",
    "df = pd.read_csv(path, sep=\";\")\n",
    "# Save as parquet\n",
    "df.to_parquet(parquet_path, engine=\"pyarrow\", index=False)\n",
    "\n",
    "print(\"Dados normalizados e salvos em formato Parquet com sucesso!\")"
   ]
  },
  {
   "cell_type": "code",
   "execution_count": null,
   "metadata": {},
   "outputs": [],
   "source": []
  }
 ],
 "metadata": {
  "kernelspec": {
   "display_name": "venv",
   "language": "python",
   "name": "python3"
  },
  "language_info": {
   "codemirror_mode": {
    "name": "ipython",
    "version": 3
   },
   "file_extension": ".py",
   "mimetype": "text/x-python",
   "name": "python",
   "nbconvert_exporter": "python",
   "pygments_lexer": "ipython3",
   "version": "3.13.2"
  }
 },
 "nbformat": 4,
 "nbformat_minor": 2
}
